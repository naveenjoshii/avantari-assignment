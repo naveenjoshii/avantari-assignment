{
 "cells": [
  {
   "cell_type": "code",
   "execution_count": 72,
   "metadata": {
    "_cell_guid": "b1076dfc-b9ad-4769-8c92-a6c4dae69d19",
    "_uuid": "8f2839f25d086af736a60e9eeb907d3b93b6e0e5"
   },
   "outputs": [],
   "source": [
    "#importing necessary libraries\n",
    "import numpy as np\n",
    "import pandas as pd\n",
    "from keras.applications import imagenet_utils\n",
    "from keras.preprocessing.image import load_img\n",
    "from keras.preprocessing.image import img_to_array\n",
    "from keras.applications import VGG16\n",
    "from keras.utils import np_utils\n",
    "from keras.models import Sequential\n",
    "from keras.applications import VGG16\n",
    "from keras.applications import imagenet_utils\n",
    "from keras.callbacks import ModelCheckpoint\n",
    "from keras.preprocessing.image import load_img\n",
    "from keras.preprocessing.image import img_to_array\n",
    "from keras.layers import Dense, Conv2D, MaxPooling2D\n",
    "from keras.layers import Dropout, Flatten, GlobalAveragePooling2D\n",
    "import matplotlib.pyplot as plt"
   ]
  },
  {
   "cell_type": "code",
   "execution_count": 73,
   "metadata": {},
   "outputs": [],
   "source": [
    "# reading data from csv\n",
    "data = pd.read_csv(\"../input/labeldatacsv/label-data-avantari.csv\")"
   ]
  },
  {
   "cell_type": "code",
   "execution_count": 74,
   "metadata": {
    "_cell_guid": "79c7e3d0-c299-4dcb-8224-4455121ee9b0",
    "_uuid": "d629ff2d2480ee46fbb7e2d37f6b5fab8052498a"
   },
   "outputs": [
    {
     "data": {
      "text/html": [
       "<div>\n",
       "<style scoped>\n",
       "    .dataframe tbody tr th:only-of-type {\n",
       "        vertical-align: middle;\n",
       "    }\n",
       "\n",
       "    .dataframe tbody tr th {\n",
       "        vertical-align: top;\n",
       "    }\n",
       "\n",
       "    .dataframe thead th {\n",
       "        text-align: right;\n",
       "    }\n",
       "</style>\n",
       "<table border=\"1\" class=\"dataframe\">\n",
       "  <thead>\n",
       "    <tr style=\"text-align: right;\">\n",
       "      <th></th>\n",
       "      <th>image</th>\n",
       "      <th>cluster</th>\n",
       "    </tr>\n",
       "  </thead>\n",
       "  <tbody>\n",
       "    <tr>\n",
       "      <th>0</th>\n",
       "      <td>4642.jpg</td>\n",
       "      <td>0</td>\n",
       "    </tr>\n",
       "    <tr>\n",
       "      <th>1</th>\n",
       "      <td>4185.jpg</td>\n",
       "      <td>0</td>\n",
       "    </tr>\n",
       "    <tr>\n",
       "      <th>2</th>\n",
       "      <td>3680.jpg</td>\n",
       "      <td>0</td>\n",
       "    </tr>\n",
       "    <tr>\n",
       "      <th>3</th>\n",
       "      <td>2026.jpg</td>\n",
       "      <td>0</td>\n",
       "    </tr>\n",
       "    <tr>\n",
       "      <th>4</th>\n",
       "      <td>1824.jpg</td>\n",
       "      <td>0</td>\n",
       "    </tr>\n",
       "  </tbody>\n",
       "</table>\n",
       "</div>"
      ],
      "text/plain": [
       "      image  cluster\n",
       "0  4642.jpg        0\n",
       "1  4185.jpg        0\n",
       "2  3680.jpg        0\n",
       "3  2026.jpg        0\n",
       "4  1824.jpg        0"
      ]
     },
     "execution_count": 74,
     "metadata": {},
     "output_type": "execute_result"
    }
   ],
   "source": [
    "# displays head of dataframe\n",
    "data.head()"
   ]
  },
  {
   "cell_type": "code",
   "execution_count": 75,
   "metadata": {},
   "outputs": [
    {
     "name": "stdout",
     "output_type": "stream",
     "text": [
      "<class 'pandas.core.frame.DataFrame'>\n",
      "RangeIndex: 4738 entries, 0 to 4737\n",
      "Data columns (total 2 columns):\n",
      " #   Column   Non-Null Count  Dtype \n",
      "---  ------   --------------  ----- \n",
      " 0   image    4738 non-null   object\n",
      " 1   cluster  4738 non-null   int64 \n",
      "dtypes: int64(1), object(1)\n",
      "memory usage: 74.2+ KB\n"
     ]
    }
   ],
   "source": [
    "# get the info of data frame \n",
    "data.info()"
   ]
  },
  {
   "cell_type": "code",
   "execution_count": 76,
   "metadata": {},
   "outputs": [],
   "source": [
    "# shuffle the data\n",
    "import sklearn\n",
    "nd = sklearn.utils.shuffle(data)"
   ]
  },
  {
   "cell_type": "code",
   "execution_count": 77,
   "metadata": {},
   "outputs": [
    {
     "data": {
      "text/html": [
       "<div>\n",
       "<style scoped>\n",
       "    .dataframe tbody tr th:only-of-type {\n",
       "        vertical-align: middle;\n",
       "    }\n",
       "\n",
       "    .dataframe tbody tr th {\n",
       "        vertical-align: top;\n",
       "    }\n",
       "\n",
       "    .dataframe thead th {\n",
       "        text-align: right;\n",
       "    }\n",
       "</style>\n",
       "<table border=\"1\" class=\"dataframe\">\n",
       "  <thead>\n",
       "    <tr style=\"text-align: right;\">\n",
       "      <th></th>\n",
       "      <th>image</th>\n",
       "      <th>cluster</th>\n",
       "    </tr>\n",
       "  </thead>\n",
       "  <tbody>\n",
       "    <tr>\n",
       "      <th>1904</th>\n",
       "      <td>4131.jpg</td>\n",
       "      <td>2</td>\n",
       "    </tr>\n",
       "    <tr>\n",
       "      <th>1557</th>\n",
       "      <td>1558.jpg</td>\n",
       "      <td>2</td>\n",
       "    </tr>\n",
       "    <tr>\n",
       "      <th>3922</th>\n",
       "      <td>914.jpg</td>\n",
       "      <td>6</td>\n",
       "    </tr>\n",
       "    <tr>\n",
       "      <th>2639</th>\n",
       "      <td>2224.jpg</td>\n",
       "      <td>4</td>\n",
       "    </tr>\n",
       "    <tr>\n",
       "      <th>4491</th>\n",
       "      <td>4127.jpg</td>\n",
       "      <td>7</td>\n",
       "    </tr>\n",
       "  </tbody>\n",
       "</table>\n",
       "</div>"
      ],
      "text/plain": [
       "         image  cluster\n",
       "1904  4131.jpg        2\n",
       "1557  1558.jpg        2\n",
       "3922   914.jpg        6\n",
       "2639  2224.jpg        4\n",
       "4491  4127.jpg        7"
      ]
     },
     "execution_count": 77,
     "metadata": {},
     "output_type": "execute_result"
    }
   ],
   "source": [
    "# after shuffle display head\n",
    "nd.head()"
   ]
  },
  {
   "cell_type": "code",
   "execution_count": 78,
   "metadata": {},
   "outputs": [],
   "source": [
    "def create_features(dataset, pre_model):\n",
    "    '''\n",
    "    Generates features for all the images in the dataset \n",
    "    provided using pretrained model\n",
    "    \n",
    "    Arguments \n",
    "    dataset : list of image paths (dtype : list)\n",
    "    pre_model : instance of our pre-trained model (dtype : keras.Model)\n",
    "    \n",
    "    Returns : Returns the n-D array of encoded features\n",
    "              for each image (dtype : numpy.ndarray)\n",
    "    \n",
    "    '''\n",
    "    x_scratch = []\n",
    "    c = 0\n",
    "    # loop over the images\n",
    "    for imagePath in dataset:\n",
    "        # load the image path\n",
    "        imagePath = \"../input/datasetavantari/dataset/\"+imagePath.split(\"/\")[-1]\n",
    "        # Convert the image pixels to a numpy array\n",
    "        image = img_to_array(image)\n",
    "        # expanding the dimensions ex our image shape is (224,224,3) so far \n",
    "        # but if we expand the dimensions it becomes (1, 224, 224, 3)\n",
    "        image = np.expand_dims(image, axis=0)\n",
    "        # subtracting the mean RGB pixel intensity from the ImageNet dataset\n",
    "        image = imagenet_utils.preprocess_input(image)\n",
    "        # add the image to the batch\n",
    "        x_scratch.append(image)\n",
    "    #to get (n, 224, 224, 3) as the dim of images \n",
    "    # where n is the number of images processed\n",
    "    # it will return n-d array of features with shape (4738, 224, 224, 3) \n",
    "    # note:our dataset size is 4738\n",
    "    x = np.vstack(x_scratch)\n",
    "    # Pass x into pre_model to get encoded features\n",
    "    features = pre_model.predict(x, batch_size=32)\n",
    "    return features"
   ]
  },
  {
   "cell_type": "code",
   "execution_count": 79,
   "metadata": {},
   "outputs": [],
   "source": [
    "# Split the data set into train val and test in the ratio of 60:20:20 respectively\n",
    "train, validate, test = np.split(nd.sample(frac=1), [int(.6*len(nd)), int(.8*len(nd))])"
   ]
  },
  {
   "cell_type": "code",
   "execution_count": 80,
   "metadata": {},
   "outputs": [
    {
     "name": "stdout",
     "output_type": "stream",
     "text": [
      "2842 948 948\n"
     ]
    }
   ],
   "source": [
    "# displays the len after split\n",
    "print(len(train),len(validate),len(test))"
   ]
  },
  {
   "cell_type": "code",
   "execution_count": 81,
   "metadata": {},
   "outputs": [],
   "source": [
    "#Load the VGG model\n",
    "vgg_conv = VGG16(weights='imagenet', include_top=False, input_shape=(250,250,3))"
   ]
  },
  {
   "cell_type": "code",
   "execution_count": 82,
   "metadata": {},
   "outputs": [
    {
     "name": "stdout",
     "output_type": "stream",
     "text": [
      "Model: \"vgg16\"\n",
      "_________________________________________________________________\n",
      "Layer (type)                 Output Shape              Param #   \n",
      "=================================================================\n",
      "input_2 (InputLayer)         [(None, 250, 250, 3)]     0         \n",
      "_________________________________________________________________\n",
      "block1_conv1 (Conv2D)        (None, 250, 250, 64)      1792      \n",
      "_________________________________________________________________\n",
      "block1_conv2 (Conv2D)        (None, 250, 250, 64)      36928     \n",
      "_________________________________________________________________\n",
      "block1_pool (MaxPooling2D)   (None, 125, 125, 64)      0         \n",
      "_________________________________________________________________\n",
      "block2_conv1 (Conv2D)        (None, 125, 125, 128)     73856     \n",
      "_________________________________________________________________\n",
      "block2_conv2 (Conv2D)        (None, 125, 125, 128)     147584    \n",
      "_________________________________________________________________\n",
      "block2_pool (MaxPooling2D)   (None, 62, 62, 128)       0         \n",
      "_________________________________________________________________\n",
      "block3_conv1 (Conv2D)        (None, 62, 62, 256)       295168    \n",
      "_________________________________________________________________\n",
      "block3_conv2 (Conv2D)        (None, 62, 62, 256)       590080    \n",
      "_________________________________________________________________\n",
      "block3_conv3 (Conv2D)        (None, 62, 62, 256)       590080    \n",
      "_________________________________________________________________\n",
      "block3_pool (MaxPooling2D)   (None, 31, 31, 256)       0         \n",
      "_________________________________________________________________\n",
      "block4_conv1 (Conv2D)        (None, 31, 31, 512)       1180160   \n",
      "_________________________________________________________________\n",
      "block4_conv2 (Conv2D)        (None, 31, 31, 512)       2359808   \n",
      "_________________________________________________________________\n",
      "block4_conv3 (Conv2D)        (None, 31, 31, 512)       2359808   \n",
      "_________________________________________________________________\n",
      "block4_pool (MaxPooling2D)   (None, 15, 15, 512)       0         \n",
      "_________________________________________________________________\n",
      "block5_conv1 (Conv2D)        (None, 15, 15, 512)       2359808   \n",
      "_________________________________________________________________\n",
      "block5_conv2 (Conv2D)        (None, 15, 15, 512)       2359808   \n",
      "_________________________________________________________________\n",
      "block5_conv3 (Conv2D)        (None, 15, 15, 512)       2359808   \n",
      "_________________________________________________________________\n",
      "block5_pool (MaxPooling2D)   (None, 7, 7, 512)         0         \n",
      "=================================================================\n",
      "Total params: 14,714,688\n",
      "Trainable params: 14,714,688\n",
      "Non-trainable params: 0\n",
      "_________________________________________________________________\n"
     ]
    }
   ],
   "source": [
    "# display summary\n",
    "vgg_conv.summary()"
   ]
  },
  {
   "cell_type": "code",
   "execution_count": 83,
   "metadata": {},
   "outputs": [],
   "source": [
    "# generate features for train data\n",
    "d = list(train['image'])\n",
    "train_features = create_features(d,vgg_conv)"
   ]
  },
  {
   "cell_type": "code",
   "execution_count": 84,
   "metadata": {},
   "outputs": [],
   "source": [
    "# generate features for validation data\n",
    "d = list(validate['image'])\n",
    "val_features = create_features(d,vgg_conv)"
   ]
  },
  {
   "cell_type": "code",
   "execution_count": 85,
   "metadata": {},
   "outputs": [],
   "source": [
    "# generates features for test data\n",
    "d = list(test['image'])\n",
    "test_features = create_features(d,vgg_conv)"
   ]
  },
  {
   "cell_type": "code",
   "execution_count": 86,
   "metadata": {},
   "outputs": [
    {
     "name": "stdout",
     "output_type": "stream",
     "text": [
      "Model: \"sequential_1\"\n",
      "_________________________________________________________________\n",
      "Layer (type)                 Output Shape              Param #   \n",
      "=================================================================\n",
      "global_average_pooling2d_1 ( (None, 512)               0         \n",
      "_________________________________________________________________\n",
      "dropout_1 (Dropout)          (None, 512)               0         \n",
      "_________________________________________________________________\n",
      "dense_2 (Dense)              (None, 100)               51300     \n",
      "_________________________________________________________________\n",
      "dense_3 (Dense)              (None, 8)                 808       \n",
      "=================================================================\n",
      "Total params: 52,108\n",
      "Trainable params: 52,108\n",
      "Non-trainable params: 0\n",
      "_________________________________________________________________\n"
     ]
    }
   ],
   "source": [
    "# Bulding CNN \n",
    "model_transfer = Sequential()\n",
    "model_transfer.add(GlobalAveragePooling2D(input_shape=train_features.shape[1:]))\n",
    "model_transfer.add(Dropout(0.2))\n",
    "model_transfer.add(Dense(100, activation='relu'))\n",
    "model_transfer.add(Dense(8, activation='softmax'))\n",
    "model_transfer.summary()"
   ]
  },
  {
   "cell_type": "code",
   "execution_count": 87,
   "metadata": {},
   "outputs": [],
   "source": [
    "# Creating a checkpointer\n",
    "checkpointer = ModelCheckpoint(filepath='avantari.hdf5',\n",
    "                               verbose=1,save_best_only=True)"
   ]
  },
  {
   "cell_type": "code",
   "execution_count": 88,
   "metadata": {},
   "outputs": [],
   "source": [
    "from keras.utils import to_categorical"
   ]
  },
  {
   "cell_type": "code",
   "execution_count": 89,
   "metadata": {},
   "outputs": [],
   "source": [
    "# converting our output label into array of index as 1 as our output layer is softmax\n",
    "y_train = to_categorical(train['cluster'])\n",
    "y_val = to_categorical(validate['cluster'])\n",
    "y_test = to_categorical(test['cluster'])"
   ]
  },
  {
   "cell_type": "code",
   "execution_count": 90,
   "metadata": {},
   "outputs": [
    {
     "name": "stdout",
     "output_type": "stream",
     "text": [
      "Epoch 1/5\n",
      "220/237 [==========================>...] - ETA: 0s - loss: 0.9898 - accuracy: 0.8670\n",
      "Epoch 00001: val_loss improved from inf to 0.15891, saving model to avantari.hdf5\n",
      "237/237 [==============================] - 1s 5ms/step - loss: 0.9308 - accuracy: 0.8737 - val_loss: 0.1589 - val_accuracy: 0.9715\n",
      "Epoch 2/5\n",
      "235/237 [============================>.] - ETA: 0s - loss: 0.2389 - accuracy: 0.9574\n",
      "Epoch 00002: val_loss did not improve from 0.15891\n",
      "237/237 [==============================] - 1s 4ms/step - loss: 0.2370 - accuracy: 0.9578 - val_loss: 0.1713 - val_accuracy: 0.9684\n",
      "Epoch 3/5\n",
      "226/237 [===========================>..] - ETA: 0s - loss: 0.1960 - accuracy: 0.9598\n",
      "Epoch 00003: val_loss did not improve from 0.15891\n",
      "237/237 [==============================] - 1s 4ms/step - loss: 0.1999 - accuracy: 0.9588 - val_loss: 0.1929 - val_accuracy: 0.9673\n",
      "Epoch 4/5\n",
      "237/237 [==============================] - ETA: 0s - loss: 0.1512 - accuracy: 0.9676\n",
      "Epoch 00004: val_loss improved from 0.15891 to 0.14495, saving model to avantari.hdf5\n",
      "237/237 [==============================] - 1s 4ms/step - loss: 0.1512 - accuracy: 0.9676 - val_loss: 0.1449 - val_accuracy: 0.9768\n",
      "Epoch 5/5\n",
      "219/237 [==========================>...] - ETA: 0s - loss: 0.1242 - accuracy: 0.9699\n",
      "Epoch 00005: val_loss did not improve from 0.14495\n",
      "237/237 [==============================] - 1s 4ms/step - loss: 0.1357 - accuracy: 0.9694 - val_loss: 0.1623 - val_accuracy: 0.9726\n"
     ]
    }
   ],
   "source": [
    "# defining loss,optimizer and metrics for model\n",
    "model_transfer.compile(loss='categorical_crossentropy', optimizer='adam',\n",
    "              metrics=['accuracy'])\n",
    "#training our model\n",
    "history = model_transfer.fit(train_features, y_train, batch_size=12, epochs=5,\n",
    "          validation_data=(val_features, y_val), callbacks=[checkpointer],\n",
    "          verbose=1, shuffle=True)"
   ]
  },
  {
   "cell_type": "code",
   "execution_count": 91,
   "metadata": {},
   "outputs": [],
   "source": [
    "# Ploting the Accuracy and loss during training and validation\n",
    "def plot_acc_loss(history):\n",
    "    fig = plt.figure(figsize=(10,5))\n",
    "    plt.subplot(1, 2, 1)\n",
    "    plt.plot(history.history['accuracy'])\n",
    "    plt.plot(history.history['val_accuracy'])\n",
    "    plt.title('model accuracy')\n",
    "    plt.ylabel('accuracy')\n",
    "    plt.xlabel('epoch')\n",
    "    plt.legend(['train', 'validation'], loc='upper left')\n",
    " \n",
    "    plt.subplot(1, 2, 2)\n",
    "    plt.plot(history.history['loss'])\n",
    "    plt.plot(history.history['val_loss'])\n",
    "    plt.title('model loss')\n",
    "    plt.ylabel('loss')\n",
    "    plt.xlabel('epoch')\n",
    "    plt.legend(['train', 'test'], loc='upper right')\n",
    "    plt.show()\n",
    " "
   ]
  },
  {
   "cell_type": "code",
   "execution_count": 92,
   "metadata": {},
   "outputs": [
    {
     "data": {
      "image/png": "[encoded data removed]",
      "text/plain": [
       "<Figure size 720x360 with 2 Axes>"
      ]
     },
     "metadata": {
      "needs_background": "light"
     },
     "output_type": "display_data"
    }
   ],
   "source": [
    "plot_acc_loss(history)"
   ]
  },
  {
   "cell_type": "code",
   "execution_count": 93,
   "metadata": {},
   "outputs": [
    {
     "name": "stdout",
     "output_type": "stream",
     "text": [
      "\n",
      "Accuracy on Test Data:  0.9683544303797469\n",
      "\n",
      "Number of correctly identified imgaes:  918 \n",
      "\n"
     ]
    },
    {
     "data": {
      "text/plain": [
       "array([[140,   0,   0,   0,   0,   0,   0,   0],\n",
       "       [  0, 120,   0,   0,   0,   0,   0,   0],\n",
       "       [  0,   0, 166,   0,   0,   0,   0,   1],\n",
       "       [  0,   0,   0,  94,   0,   0,   0,   0],\n",
       "       [  0,   0,   0,   0, 122,   0,   0,   0],\n",
       "       [  0,   0,   0,   8,   0,  82,   0,   0],\n",
       "       [  0,   8,   0,   0,   0,   0, 116,   5],\n",
       "       [  4,   0,   1,   0,   3,   0,   0,  78]])"
      ]
     },
     "execution_count": 93,
     "metadata": {},
     "output_type": "execute_result"
    }
   ],
   "source": [
    "from sklearn.model_selection import GridSearchCV\n",
    "from sklearn.linear_model import LogisticRegression\n",
    "from sklearn.metrics import confusion_matrix, accuracy_score\n",
    "# making predictions for test data\n",
    "preds = np.argmax(model_transfer.predict(test_features), axis=1)\n",
    "print(\"\\nAccuracy on Test Data: \", accuracy_score(test['cluster'], preds))\n",
    "print(\"\\nNumber of correctly identified imgaes: \",\n",
    "accuracy_score(test['cluster'], preds, normalize=False),\"\\n\")\n",
    "confusion_matrix(test['cluster'], preds, labels=range(0,8))"
   ]
  }
 ],
 "metadata": {
  "kernelspec": {
   "display_name": "Python 3",
   "language": "python",
   "name": "python3"
  },
  "language_info": {
   "codemirror_mode": {
    "name": "ipython",
    "version": 3
   },
   "file_extension": ".py",
   "mimetype": "text/x-python",
   "name": "python",
   "nbconvert_exporter": "python",
   "pygments_lexer": "ipython3",
   "version": "3.6.5"
  }
 },
 "nbformat": 4,
 "nbformat_minor": 4
}
